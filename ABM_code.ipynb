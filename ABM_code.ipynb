{
 "cells": [
  {
   "cell_type": "markdown",
   "metadata": {},
   "source": [
    "# IndiaSim Graph-Style ABM Model Prototype"
   ]
  },
  {
   "cell_type": "markdown",
   "metadata": {},
   "source": [
    "Built for Julia 1.2.1. Redesigned for Julia 1.7.3 in July 2022. A simplistic model based on Agents.jl's example SIR model (https://juliadynamics.github.io/Agents.jl/stable/examples/sir/). Numerous key edits have been made that dramatically change the model for our purposes.\n"
   ]
  },
  {
   "cell_type": "markdown",
   "metadata": {},
   "source": [
    "In essence, children are on a fully connected network and transmit infections to each other."
   ]
  },
  {
   "cell_type": "markdown",
   "metadata": {},
   "source": [
    "TO DO: (1) Correct transmission dynamics, (2) add vaccinations, and (3) estimate antibiotoic use"
   ]
  },
  {
   "cell_type": "markdown",
   "metadata": {},
   "source": [
    "Chirag K. Kumar -- ckkumar@princeton.edu"
   ]
  },
  {
   "cell_type": "code",
   "execution_count": 15,
   "metadata": {},
   "outputs": [],
   "source": [
    "import Pkg # for installing packages/package manager"
   ]
  },
  {
   "cell_type": "code",
   "execution_count": 16,
   "metadata": {},
   "outputs": [
    {
     "name": "stderr",
     "output_type": "stream",
     "text": [
      "\u001b[32m\u001b[1m   Resolving\u001b[22m\u001b[39m package versions...\n",
      "\u001b[32m\u001b[1m  No Changes\u001b[22m\u001b[39m to `~/.julia/environments/v1.7/Project.toml`\n",
      "\u001b[32m\u001b[1m  No Changes\u001b[22m\u001b[39m to `~/.julia/environments/v1.7/Manifest.toml`\n",
      "  0 dependencies successfully precompiled in 1 seconds (225 already precompiled, 14 skipped during auto due to previous errors)\n",
      "  \u001b[91m4\u001b[39m dependencies errored. To see a full report either run `import Pkg; Pkg.precompile()` or load the packages\n"
     ]
    }
   ],
   "source": [
    "# get packages that are necessary or install them if they don't exist in the current environment\n",
    "Pkg.add([\"Agents\", \"Random\", \"DataFrames\", \"Graphs\", \"Distributions\", \"DrWatson\", \"Plots\"])"
   ]
  },
  {
   "cell_type": "code",
   "execution_count": 17,
   "metadata": {},
   "outputs": [],
   "source": [
    "using Plots"
   ]
  },
  {
   "cell_type": "code",
   "execution_count": 18,
   "metadata": {},
   "outputs": [],
   "source": [
    "using Agents, Random, DataFrames, Graphs\n",
    "using Distributions: Poisson, DiscreteNonParametric\n",
    "using DrWatson: @dict"
   ]
  },
  {
   "cell_type": "code",
   "execution_count": 19,
   "metadata": {},
   "outputs": [],
   "source": [
    "# may be good to upgrade this with the specific syntax\n",
    "# @agent PoorSoul GraphAgent begin # then can drop the pos\n",
    "\n",
    "mutable struct PoorSoul <: AbstractAgent\n",
    "    id::Int\n",
    "    pos::Int\n",
    "    days_infected::Int  # number of days since is infected\n",
    "    status::Symbol  # 1: S, 2: I, 3:R\n",
    "    # let's add in SAGE-W\n",
    "    # state::Symbol\n",
    "    age_cat::Int\n",
    "    # gender::Symbol\n",
    "    # education::Int\n",
    "    # wealth::Int\n",
    "    # room for adding in whatever else later\n",
    "end"
   ]
  },
  {
   "cell_type": "code",
   "execution_count": 33,
   "metadata": {},
   "outputs": [
    {
     "data": {
      "text/plain": [
       "model_initiation (generic function with 1 method)"
      ]
     },
     "execution_count": 33,
     "metadata": {},
     "output_type": "execute_result"
    }
   ],
   "source": [
    "# convenient to wrap the initialization of the model in a function that calls all the necessary subroutines, etc, etc.....\n",
    "\n",
    "# parameters for the transmission of the infection\n",
    "# the key idea is to have a modular design so that we can easily flip and flip out new pathogens\n",
    "function model_initiation(;\n",
    "    N_total,\n",
    "    contact_matrix,\n",
    "    β_und,\n",
    "    β_det,\n",
    "    infection_period = 3,\n",
    "    reinfection_probability = 0.0,\n",
    "    detection_time = 14,\n",
    "    death_rate = 0.02,\n",
    "    killed_agents,\n",
    "    seed = 108,\n",
    ")\n",
    "\n",
    "    rng = MersenneTwister(seed)\n",
    "    # normalize migration_rates\n",
    "    contact_matrix_sum = sum(contact_matrix, dims = 2)\n",
    "    for c in 1:80\n",
    "        contact_matrix[c, :] ./= contact_matrix_sum[c]\n",
    "    end\n",
    "\n",
    "    properties = @dict(\n",
    "        N_total,\n",
    "        β_und,\n",
    "        β_det,\n",
    "        β_det,\n",
    "        contact_matrix,\n",
    "        infection_period,\n",
    "        infection_period,\n",
    "        reinfection_probability,\n",
    "        detection_time,\n",
    "        death_rate,\n",
    "        killed_agents\n",
    "    )\n",
    "\n",
    "    # wonder if there's a clever way to do what we do below with the interaction_matrix by using a SimpleWeightedDiGraph\n",
    "    # and baking in the weights\n",
    "    space = GraphSpace(complete_digraph(N_total)) # everyone connected to everyone else\n",
    "    model = ABM(PoorSoul, space; properties, rng)\n",
    "\n",
    "    # Add initial individuals\n",
    "    prevalence = 0.2\n",
    "    for n in 1:N_total\n",
    "        if rand(rng) <= prevalence\n",
    "            ind = add_agent!(n, model, 0, :I, rand(1:80)) # ages and gender whatnot should be pulled from nfhs data\n",
    "        else\n",
    "            ind = add_agent!(n, model, 0, :S, rand(1:80))\n",
    "        end\n",
    "    end\n",
    "    # add infected individuals\n",
    "    return model\n",
    "end"
   ]
  },
  {
   "cell_type": "code",
   "execution_count": 39,
   "metadata": {},
   "outputs": [
    {
     "data": {
      "text/plain": [
       "AgentBasedModel with 10 agents of type PoorSoul\n",
       " space: GraphSpace with 10 positions and 90 edges\n",
       " scheduler: fastest\n",
       " properties: death_rate, killed_agents, infection_period, β_und, contact_matrix, detection_time, N_total, β_det, reinfection_probability"
      ]
     },
     "execution_count": 39,
     "metadata": {},
     "output_type": "execute_result"
    }
   ],
   "source": [
    "using LinearAlgebra: diagind\n",
    "\n",
    "function create_params(;\n",
    "    N_total,\n",
    "    infection_period = 3,\n",
    "    reinfection_probability = 0.00,\n",
    "    detection_time = 14,\n",
    "    death_rate = 0.02,\n",
    "    seed = 108,\n",
    ")\n",
    "\n",
    "    Random.seed!(seed)\n",
    "    β_und = rand(0.3:0.02:0.6) * 0.333\n",
    "    β_det = β_und ./ 10\n",
    "\n",
    "    Random.seed!(seed)\n",
    "    contact_matrix = zeros(80, 80)\n",
    "    for c in 1:80\n",
    "        for c2 in 1:80\n",
    "            contact_matrix[c, c2] = rand()\n",
    "        end\n",
    "    end\n",
    "    maxM = maximum(contact_matrix)\n",
    "    contact_matrix = (contact_matrix) ./ maxM\n",
    "    contact_matrix[diagind(contact_matrix)] .= 1.0\n",
    "    killed_agents = Vector{Float64}()\n",
    "\n",
    "    params = @dict(\n",
    "        N_total,\n",
    "        β_und,\n",
    "        β_det,\n",
    "        contact_matrix,\n",
    "        infection_period,\n",
    "        reinfection_probability,\n",
    "        detection_time,\n",
    "        death_rate,\n",
    "        killed_agents)\n",
    "\n",
    "    return params\n",
    "end\n",
    "\n",
    "params = create_params(N_total = 10)\n",
    "model = model_initiation(; params...)"
   ]
  },
  {
   "cell_type": "code",
   "execution_count": 40,
   "metadata": {},
   "outputs": [],
   "source": [
    "# annoyingly i haven't figured out a way to do this as part of the class\n",
    "# basically, store the probabilities of interaction with all neighbors\n",
    "# i am sure there must be a better way\n",
    "\n",
    "# note that this is really just a \n",
    "interaction_matrix = zeros(model.N_total, model.N_total)\n",
    "for i in 1:model.N_total\n",
    "    # wonder if there's a clever way to do this that cuts out one for loop by\n",
    "    for j in 1:model.N_total\n",
    "        interaction_matrix[i, j] = model.contact_matrix[model[i].age_cat, model[j].age_cat]\n",
    "    end\n",
    "end"
   ]
  },
  {
   "cell_type": "code",
   "execution_count": 49,
   "metadata": {},
   "outputs": [
    {
     "data": {
      "text/plain": [
       "recover_or_die! (generic function with 1 method)"
      ]
     },
     "execution_count": 49,
     "metadata": {},
     "output_type": "execute_result"
    }
   ],
   "source": [
    "function agent_step!(agent, model)\n",
    "    #migrate!(agent, model)\n",
    "    transmit!(agent, model)\n",
    "    update!(agent, model)\n",
    "    recover_or_die!(agent, model)\n",
    "end\n",
    "\n",
    "function migrate!(agent, model)\n",
    "    pid = agent.pos\n",
    "    # effectively a function that pulls a new spot for the agent to travel to with probabilities given by the contact matrix\n",
    "    d = DiscreteNonParametric(1:(model.N_total), interaction_matrix[pid, :] ./ sum(interaction_matrix[pid, :]))\n",
    "    # what we should also do is check that the agent to whom we are migrating isn't dead....\n",
    "    m = rand(model.rng, d)\n",
    "    if m ≠ pid\n",
    "        move_agent!(agent, m, model)\n",
    "    end\n",
    "end\n",
    "\n",
    "function transmit!(agent, model)\n",
    "    agent.status == :S && return\n",
    "    rate = if agent.days_infected < model.detection_time\n",
    "        model.β_und\n",
    "    else\n",
    "        model.β_det\n",
    "    end\n",
    "\n",
    "    # this follows the outline suggested in the lloyd-smith paper, though I prefer an NB  distribution\n",
    "    # hard part is to quantify the superspreading parameter, though....\n",
    "    d = Poisson(rate)\n",
    "    n = rand(model.rng, d)\n",
    "    n == 0 && return\n",
    "    \n",
    "    # pick a random agent in the network and infect them\n",
    "    pid = agent.pos\n",
    "    # effectively a function that pulls a new spot for the agent to travel to with probabilities given by the contact matrix\n",
    "    d = DiscreteNonParametric(1:(model.N_total), interaction_matrix[pid, :] ./ sum(interaction_matrix[pid, :]))\n",
    "\n",
    "    i = 0\n",
    "    while i <= n\n",
    "        m = rand(model.rng, d)\n",
    "        if m ≠ pid && !(m in model.killed_agents)\n",
    "            if model[m].status == :S || (model[m].status == :R && rand(model.rng) ≤ model.reinfection_probability)\n",
    "                model[m].status = :I\n",
    "                i = i + 1\n",
    "            end\n",
    "        end\n",
    "    end\n",
    "\n",
    "    # for contactID in ids_in_position(agent, model)\n",
    "    #     contact = model[contactID]\n",
    "    #     if contact.status == :S ||\n",
    "    #        (contact.status == :R && rand(model.rng) ≤ model.reinfection_probability)\n",
    "    #         contact.status = :I\n",
    "    #         n -= 1\n",
    "    #         n == 0 && return\n",
    "    #     end\n",
    "    # end\n",
    "end\n",
    "\n",
    "update!(agent, model) = agent.status == :I && (agent.days_infected += 1)\n",
    "\n",
    "function recover_or_die!(agent, model)\n",
    "    # NOTE! Can only apply the CFR if we ask ONCE whether the agent dies or not.... we happen to do this at end of infection period\n",
    "    if agent.days_infected ≥ model.infection_period\n",
    "        if rand(model.rng) ≤ model.death_rate\n",
    "            push(model.killed_agents, agent.id)\n",
    "            kill_agent!(agent, model)\n",
    "        else\n",
    "            agent.status = :R\n",
    "            agent.days_infected = 0\n",
    "        end\n",
    "    end\n",
    "end"
   ]
  },
  {
   "cell_type": "code",
   "execution_count": 50,
   "metadata": {},
   "outputs": [
    {
     "data": {
      "text/plain": [
       "recovered (generic function with 1 method)"
      ]
     },
     "execution_count": 50,
     "metadata": {},
     "output_type": "execute_result"
    }
   ],
   "source": [
    "infected(x) = count(i == :I for i in x)\n",
    "recovered(x) = count(i == :R for i in x)"
   ]
  },
  {
   "cell_type": "code",
   "execution_count": 51,
   "metadata": {},
   "outputs": [],
   "source": [
    "model = model_initiation(; params...)\n",
    "\n",
    "to_collect = [(:status, f) for f in (infected, recovered, length)]\n",
    "data, _ = run!(model, agent_step!, 100; adata = to_collect)\n",
    "data[1:10, :]"
   ]
  },
  {
   "cell_type": "code",
   "execution_count": null,
   "metadata": {},
   "outputs": [
    {
     "data": {
      "image/svg+xml": "<?xml version=\"1.0\" encoding=\"utf-8\"?>\n<svg xmlns=\"http://www.w3.org/2000/svg\" xmlns:xlink=\"http://www.w3.org/1999/xlink\" width=\"600\" height=\"400\" viewBox=\"0 0 2400 1600\">\n<defs>\n  <clipPath id=\"clip800\">\n    <rect x=\"0\" y=\"0\" width=\"2400\" height=\"1600\"/>\n  </clipPath>\n</defs>\n<path clip-path=\"url(#clip800)\" d=\"\nM0 1600 L2400 1600 L2400 0 L0 0  Z\n  \" fill=\"#ffffff\" fill-rule=\"evenodd\" fill-opacity=\"1\"/>\n<defs>\n  <clipPath id=\"clip801\">\n    <rect x=\"480\" y=\"0\" width=\"1681\" height=\"1600\"/>\n  </clipPath>\n</defs>\n<path clip-path=\"url(#clip800)\" d=\"\nM186.274 1486.45 L2352.76 1486.45 L2352.76 47.2441 L186.274 47.2441  Z\n  \" fill=\"#ffffff\" fill-rule=\"evenodd\" fill-opacity=\"1\"/>\n<defs>\n  <clipPath id=\"clip802\">\n    <rect x=\"186\" y=\"47\" width=\"2167\" height=\"1440\"/>\n  </clipPath>\n</defs>\n<polyline clip-path=\"url(#clip802)\" style=\"stroke:#000000; stroke-linecap:butt; stroke-linejoin:round; stroke-width:2; stroke-opacity:0.1; fill:none\" points=\"\n  247.59,1486.45 247.59,47.2441 \n  \"/>\n<polyline clip-path=\"url(#clip802)\" style=\"stroke:#000000; stroke-linecap:butt; stroke-linejoin:round; stroke-width:2; stroke-opacity:0.1; fill:none\" points=\"\n  758.552,1486.45 758.552,47.2441 \n  \"/>\n<polyline clip-path=\"url(#clip802)\" style=\"stroke:#000000; stroke-linecap:butt; stroke-linejoin:round; stroke-width:2; stroke-opacity:0.1; fill:none\" points=\"\n  1269.51,1486.45 1269.51,47.2441 \n  \"/>\n<polyline clip-path=\"url(#clip802)\" style=\"stroke:#000000; stroke-linecap:butt; stroke-linejoin:round; stroke-width:2; stroke-opacity:0.1; fill:none\" points=\"\n  1780.48,1486.45 1780.48,47.2441 \n  \"/>\n<polyline clip-path=\"url(#clip802)\" style=\"stroke:#000000; stroke-linecap:butt; stroke-linejoin:round; stroke-width:2; stroke-opacity:0.1; fill:none\" points=\"\n  2291.44,1486.45 2291.44,47.2441 \n  \"/>\n<polyline clip-path=\"url(#clip800)\" style=\"stroke:#000000; stroke-linecap:butt; stroke-linejoin:round; stroke-width:4; stroke-opacity:1; fill:none\" points=\"\n  186.274,1486.45 2352.76,1486.45 \n  \"/>\n<polyline clip-path=\"url(#clip800)\" style=\"stroke:#000000; stroke-linecap:butt; stroke-linejoin:round; stroke-width:4; stroke-opacity:1; fill:none\" points=\"\n  247.59,1486.45 247.59,1467.55 \n  \"/>\n<polyline clip-path=\"url(#clip800)\" style=\"stroke:#000000; stroke-linecap:butt; stroke-linejoin:round; stroke-width:4; stroke-opacity:1; fill:none\" points=\"\n  758.552,1486.45 758.552,1467.55 \n  \"/>\n<polyline clip-path=\"url(#clip800)\" style=\"stroke:#000000; stroke-linecap:butt; stroke-linejoin:round; stroke-width:4; stroke-opacity:1; fill:none\" points=\"\n  1269.51,1486.45 1269.51,1467.55 \n  \"/>\n<polyline clip-path=\"url(#clip800)\" style=\"stroke:#000000; stroke-linecap:butt; stroke-linejoin:round; stroke-width:4; stroke-opacity:1; fill:none\" points=\"\n  1780.48,1486.45 1780.48,1467.55 \n  \"/>\n<polyline clip-path=\"url(#clip800)\" style=\"stroke:#000000; stroke-linecap:butt; stroke-linejoin:round; stroke-width:4; stroke-opacity:1; fill:none\" points=\"\n  2291.44,1486.45 2291.44,1467.55 \n  \"/>\n<path clip-path=\"url(#clip800)\" d=\"M247.59 1517.37 Q243.978 1517.37 242.15 1520.93 Q240.344 1524.47 240.344 1531.6 Q240.344 1538.71 242.15 1542.27 Q243.978 1545.82 247.59 1545.82 Q251.224 1545.82 253.029 1542.27 Q254.858 1538.71 254.858 1531.6 Q254.858 1524.47 253.029 1520.93 Q251.224 1517.37 247.59 1517.37 M247.59 1513.66 Q253.4 1513.66 256.455 1518.27 Q259.534 1522.85 259.534 1531.6 Q259.534 1540.33 256.455 1544.94 Q253.4 1549.52 247.59 1549.52 Q241.779 1549.52 238.701 1544.94 Q235.645 1540.33 235.645 1531.6 Q235.645 1522.85 238.701 1518.27 Q241.779 1513.66 247.59 1513.66 Z\" fill=\"#000000\" fill-rule=\"evenodd\" fill-opacity=\"1\" /><path clip-path=\"url(#clip800)\" d=\"M737.823 1544.91 L754.143 1544.91 L754.143 1548.85 L732.198 1548.85 L732.198 1544.91 Q734.86 1542.16 739.444 1537.53 Q744.05 1532.88 745.231 1531.53 Q747.476 1529.01 748.356 1527.27 Q749.258 1525.51 749.258 1523.82 Q749.258 1521.07 747.314 1519.33 Q745.393 1517.6 742.291 1517.6 Q740.092 1517.6 737.638 1518.36 Q735.207 1519.13 732.43 1520.68 L732.43 1515.95 Q735.254 1514.82 737.707 1514.24 Q740.161 1513.66 742.198 1513.66 Q747.569 1513.66 750.763 1516.35 Q753.957 1519.03 753.957 1523.52 Q753.957 1525.65 753.147 1527.57 Q752.36 1529.47 750.254 1532.07 Q749.675 1532.74 746.573 1535.95 Q743.471 1539.15 737.823 1544.91 Z\" fill=\"#000000\" fill-rule=\"evenodd\" fill-opacity=\"1\" /><path clip-path=\"url(#clip800)\" d=\"M764.004 1514.29 L782.36 1514.29 L782.36 1518.22 L768.286 1518.22 L768.286 1526.7 Q769.304 1526.35 770.323 1526.19 Q771.342 1526 772.36 1526 Q778.147 1526 781.527 1529.17 Q784.906 1532.34 784.906 1537.76 Q784.906 1543.34 781.434 1546.44 Q777.962 1549.52 771.642 1549.52 Q769.467 1549.52 767.198 1549.15 Q764.953 1548.78 762.545 1548.04 L762.545 1543.34 Q764.629 1544.47 766.851 1545.03 Q769.073 1545.58 771.55 1545.58 Q775.554 1545.58 777.892 1543.48 Q780.23 1541.37 780.23 1537.76 Q780.23 1534.15 777.892 1532.04 Q775.554 1529.94 771.55 1529.94 Q769.675 1529.94 767.8 1530.35 Q765.948 1530.77 764.004 1531.65 L764.004 1514.29 Z\" fill=\"#000000\" fill-rule=\"evenodd\" fill-opacity=\"1\" /><path clip-path=\"url(#clip800)\" d=\"M1244.21 1514.29 L1262.57 1514.29 L1262.57 1518.22 L1248.5 1518.22 L1248.5 1526.7 Q1249.52 1526.35 1250.53 1526.19 Q1251.55 1526 1252.57 1526 Q1258.36 1526 1261.74 1529.17 Q1265.12 1532.34 1265.12 1537.76 Q1265.12 1543.34 1261.64 1546.44 Q1258.17 1549.52 1251.85 1549.52 Q1249.68 1549.52 1247.41 1549.15 Q1245.16 1548.78 1242.76 1548.04 L1242.76 1543.34 Q1244.84 1544.47 1247.06 1545.03 Q1249.28 1545.58 1251.76 1545.58 Q1255.77 1545.58 1258.1 1543.48 Q1260.44 1541.37 1260.44 1537.76 Q1260.44 1534.15 1258.1 1532.04 Q1255.77 1529.94 1251.76 1529.94 Q1249.89 1529.94 1248.01 1530.35 Q1246.16 1530.77 1244.21 1531.65 L1244.21 1514.29 Z\" fill=\"#000000\" fill-rule=\"evenodd\" fill-opacity=\"1\" /><path clip-path=\"url(#clip800)\" d=\"M1284.33 1517.37 Q1280.72 1517.37 1278.89 1520.93 Q1277.08 1524.47 1277.08 1531.6 Q1277.08 1538.71 1278.89 1542.27 Q1280.72 1545.82 1284.33 1545.82 Q1287.96 1545.82 1289.77 1542.27 Q1291.6 1538.71 1291.6 1531.6 Q1291.6 1524.47 1289.77 1520.93 Q1287.96 1517.37 1284.33 1517.37 M1284.33 1513.66 Q1290.14 1513.66 1293.2 1518.27 Q1296.27 1522.85 1296.27 1531.6 Q1296.27 1540.33 1293.2 1544.94 Q1290.14 1549.52 1284.33 1549.52 Q1278.52 1549.52 1275.44 1544.94 Q1272.39 1540.33 1272.39 1531.6 Q1272.39 1522.85 1275.44 1518.27 Q1278.52 1513.66 1284.33 1513.66 Z\" fill=\"#000000\" fill-rule=\"evenodd\" fill-opacity=\"1\" /><path clip-path=\"url(#clip800)\" d=\"M1754.33 1514.29 L1776.55 1514.29 L1776.55 1516.28 L1764.01 1548.85 L1759.12 1548.85 L1770.93 1518.22 L1754.33 1518.22 L1754.33 1514.29 Z\" fill=\"#000000\" fill-rule=\"evenodd\" fill-opacity=\"1\" /><path clip-path=\"url(#clip800)\" d=\"M1785.72 1514.29 L1804.08 1514.29 L1804.08 1518.22 L1790 1518.22 L1790 1526.7 Q1791.02 1526.35 1792.04 1526.19 Q1793.06 1526 1794.08 1526 Q1799.86 1526 1803.24 1529.17 Q1806.62 1532.34 1806.62 1537.76 Q1806.62 1543.34 1803.15 1546.44 Q1799.68 1549.52 1793.36 1549.52 Q1791.18 1549.52 1788.92 1549.15 Q1786.67 1548.78 1784.26 1548.04 L1784.26 1543.34 Q1786.35 1544.47 1788.57 1545.03 Q1790.79 1545.58 1793.27 1545.58 Q1797.27 1545.58 1799.61 1543.48 Q1801.95 1541.37 1801.95 1537.76 Q1801.95 1534.15 1799.61 1532.04 Q1797.27 1529.94 1793.27 1529.94 Q1791.39 1529.94 1789.52 1530.35 Q1787.67 1530.77 1785.72 1531.65 L1785.72 1514.29 Z\" fill=\"#000000\" fill-rule=\"evenodd\" fill-opacity=\"1\" /><path clip-path=\"url(#clip800)\" d=\"M2251.05 1544.91 L2258.69 1544.91 L2258.69 1518.55 L2250.38 1520.21 L2250.38 1515.95 L2258.64 1514.29 L2263.32 1514.29 L2263.32 1544.91 L2270.95 1544.91 L2270.95 1548.85 L2251.05 1548.85 L2251.05 1544.91 Z\" fill=\"#000000\" fill-rule=\"evenodd\" fill-opacity=\"1\" /><path clip-path=\"url(#clip800)\" d=\"M2290.4 1517.37 Q2286.79 1517.37 2284.96 1520.93 Q2283.15 1524.47 2283.15 1531.6 Q2283.15 1538.71 2284.96 1542.27 Q2286.79 1545.82 2290.4 1545.82 Q2294.03 1545.82 2295.84 1542.27 Q2297.67 1538.71 2297.67 1531.6 Q2297.67 1524.47 2295.84 1520.93 Q2294.03 1517.37 2290.4 1517.37 M2290.4 1513.66 Q2296.21 1513.66 2299.26 1518.27 Q2302.34 1522.85 2302.34 1531.6 Q2302.34 1540.33 2299.26 1544.94 Q2296.21 1549.52 2290.4 1549.52 Q2284.59 1549.52 2281.51 1544.94 Q2278.45 1540.33 2278.45 1531.6 Q2278.45 1522.85 2281.51 1518.27 Q2284.59 1513.66 2290.4 1513.66 Z\" fill=\"#000000\" fill-rule=\"evenodd\" fill-opacity=\"1\" /><path clip-path=\"url(#clip800)\" d=\"M2320.56 1517.37 Q2316.95 1517.37 2315.12 1520.93 Q2313.32 1524.47 2313.32 1531.6 Q2313.32 1538.71 2315.12 1542.27 Q2316.95 1545.82 2320.56 1545.82 Q2324.19 1545.82 2326 1542.27 Q2327.83 1538.71 2327.83 1531.6 Q2327.83 1524.47 2326 1520.93 Q2324.19 1517.37 2320.56 1517.37 M2320.56 1513.66 Q2326.37 1513.66 2329.43 1518.27 Q2332.5 1522.85 2332.5 1531.6 Q2332.5 1540.33 2329.43 1544.94 Q2326.37 1549.52 2320.56 1549.52 Q2314.75 1549.52 2311.67 1544.94 Q2308.62 1540.33 2308.62 1531.6 Q2308.62 1522.85 2311.67 1518.27 Q2314.75 1513.66 2320.56 1513.66 Z\" fill=\"#000000\" fill-rule=\"evenodd\" fill-opacity=\"1\" /><polyline clip-path=\"url(#clip802)\" style=\"stroke:#000000; stroke-linecap:butt; stroke-linejoin:round; stroke-width:2; stroke-opacity:0.1; fill:none\" points=\"\n  186.274,1445.72 2352.76,1445.72 \n  \"/>\n<polyline clip-path=\"url(#clip802)\" style=\"stroke:#000000; stroke-linecap:butt; stroke-linejoin:round; stroke-width:2; stroke-opacity:0.1; fill:none\" points=\"\n  186.274,1106.28 2352.76,1106.28 \n  \"/>\n<polyline clip-path=\"url(#clip802)\" style=\"stroke:#000000; stroke-linecap:butt; stroke-linejoin:round; stroke-width:2; stroke-opacity:0.1; fill:none\" points=\"\n  186.274,766.846 2352.76,766.846 \n  \"/>\n<polyline clip-path=\"url(#clip802)\" style=\"stroke:#000000; stroke-linecap:butt; stroke-linejoin:round; stroke-width:2; stroke-opacity:0.1; fill:none\" points=\"\n  186.274,427.411 2352.76,427.411 \n  \"/>\n<polyline clip-path=\"url(#clip802)\" style=\"stroke:#000000; stroke-linecap:butt; stroke-linejoin:round; stroke-width:2; stroke-opacity:0.1; fill:none\" points=\"\n  186.274,87.9763 2352.76,87.9763 \n  \"/>\n<polyline clip-path=\"url(#clip800)\" style=\"stroke:#000000; stroke-linecap:butt; stroke-linejoin:round; stroke-width:4; stroke-opacity:1; fill:none\" points=\"\n  186.274,1486.45 186.274,47.2441 \n  \"/>\n<polyline clip-path=\"url(#clip800)\" style=\"stroke:#000000; stroke-linecap:butt; stroke-linejoin:round; stroke-width:4; stroke-opacity:1; fill:none\" points=\"\n  186.274,1445.72 205.172,1445.72 \n  \"/>\n<polyline clip-path=\"url(#clip800)\" style=\"stroke:#000000; stroke-linecap:butt; stroke-linejoin:round; stroke-width:4; stroke-opacity:1; fill:none\" points=\"\n  186.274,1106.28 205.172,1106.28 \n  \"/>\n<polyline clip-path=\"url(#clip800)\" style=\"stroke:#000000; stroke-linecap:butt; stroke-linejoin:round; stroke-width:4; stroke-opacity:1; fill:none\" points=\"\n  186.274,766.846 205.172,766.846 \n  \"/>\n<polyline clip-path=\"url(#clip800)\" style=\"stroke:#000000; stroke-linecap:butt; stroke-linejoin:round; stroke-width:4; stroke-opacity:1; fill:none\" points=\"\n  186.274,427.411 205.172,427.411 \n  \"/>\n<polyline clip-path=\"url(#clip800)\" style=\"stroke:#000000; stroke-linecap:butt; stroke-linejoin:round; stroke-width:4; stroke-opacity:1; fill:none\" points=\"\n  186.274,87.9763 205.172,87.9763 \n  \"/>\n<path clip-path=\"url(#clip800)\" d=\"M62.9365 1431.51 Q59.3254 1431.51 57.4967 1435.08 Q55.6912 1438.62 55.6912 1445.75 Q55.6912 1452.86 57.4967 1456.42 Q59.3254 1459.96 62.9365 1459.96 Q66.5707 1459.96 68.3763 1456.42 Q70.205 1452.86 70.205 1445.75 Q70.205 1438.62 68.3763 1435.08 Q66.5707 1431.51 62.9365 1431.51 M62.9365 1427.81 Q68.7467 1427.81 71.8022 1432.42 Q74.8809 1437 74.8809 1445.75 Q74.8809 1454.48 71.8022 1459.08 Q68.7467 1463.67 62.9365 1463.67 Q57.1264 1463.67 54.0477 1459.08 Q50.9921 1454.48 50.9921 1445.75 Q50.9921 1437 54.0477 1432.42 Q57.1264 1427.81 62.9365 1427.81 Z\" fill=\"#000000\" fill-rule=\"evenodd\" fill-opacity=\"1\" /><path clip-path=\"url(#clip800)\" d=\"M83.0984 1457.12 L87.9827 1457.12 L87.9827 1463 L83.0984 1463 L83.0984 1457.12 Z\" fill=\"#000000\" fill-rule=\"evenodd\" fill-opacity=\"1\" /><path clip-path=\"url(#clip800)\" d=\"M108.168 1431.51 Q104.557 1431.51 102.728 1435.08 Q100.922 1438.62 100.922 1445.75 Q100.922 1452.86 102.728 1456.42 Q104.557 1459.96 108.168 1459.96 Q111.802 1459.96 113.608 1456.42 Q115.436 1452.86 115.436 1445.75 Q115.436 1438.62 113.608 1435.08 Q111.802 1431.51 108.168 1431.51 M108.168 1427.81 Q113.978 1427.81 117.033 1432.42 Q120.112 1437 120.112 1445.75 Q120.112 1454.48 117.033 1459.08 Q113.978 1463.67 108.168 1463.67 Q102.358 1463.67 99.2789 1459.08 Q96.2234 1454.48 96.2234 1445.75 Q96.2234 1437 99.2789 1432.42 Q102.358 1427.81 108.168 1427.81 Z\" fill=\"#000000\" fill-rule=\"evenodd\" fill-opacity=\"1\" /><path clip-path=\"url(#clip800)\" d=\"M138.33 1431.51 Q134.719 1431.51 132.89 1435.08 Q131.084 1438.62 131.084 1445.75 Q131.084 1452.86 132.89 1456.42 Q134.719 1459.96 138.33 1459.96 Q141.964 1459.96 143.769 1456.42 Q145.598 1452.86 145.598 1445.75 Q145.598 1438.62 143.769 1435.08 Q141.964 1431.51 138.33 1431.51 M138.33 1427.81 Q144.14 1427.81 147.195 1432.42 Q150.274 1437 150.274 1445.75 Q150.274 1454.48 147.195 1459.08 Q144.14 1463.67 138.33 1463.67 Q132.519 1463.67 129.441 1459.08 Q126.385 1454.48 126.385 1445.75 Q126.385 1437 129.441 1432.42 Q132.519 1427.81 138.33 1427.81 Z\" fill=\"#000000\" fill-rule=\"evenodd\" fill-opacity=\"1\" /><path clip-path=\"url(#clip800)\" d=\"M63.9319 1092.08 Q60.3208 1092.08 58.4921 1095.64 Q56.6865 1099.19 56.6865 1106.32 Q56.6865 1113.42 58.4921 1116.99 Q60.3208 1120.53 63.9319 1120.53 Q67.5661 1120.53 69.3717 1116.99 Q71.2004 1113.42 71.2004 1106.32 Q71.2004 1099.19 69.3717 1095.64 Q67.5661 1092.08 63.9319 1092.08 M63.9319 1088.38 Q69.742 1088.38 72.7976 1092.98 Q75.8763 1097.57 75.8763 1106.32 Q75.8763 1115.04 72.7976 1119.65 Q69.742 1124.23 63.9319 1124.23 Q58.1217 1124.23 55.043 1119.65 Q51.9875 1115.04 51.9875 1106.32 Q51.9875 1097.57 55.043 1092.98 Q58.1217 1088.38 63.9319 1088.38 Z\" fill=\"#000000\" fill-rule=\"evenodd\" fill-opacity=\"1\" /><path clip-path=\"url(#clip800)\" d=\"M84.0938 1117.68 L88.978 1117.68 L88.978 1123.56 L84.0938 1123.56 L84.0938 1117.68 Z\" fill=\"#000000\" fill-rule=\"evenodd\" fill-opacity=\"1\" /><path clip-path=\"url(#clip800)\" d=\"M103.191 1119.63 L119.51 1119.63 L119.51 1123.56 L97.566 1123.56 L97.566 1119.63 Q100.228 1116.87 104.811 1112.24 Q109.418 1107.59 110.598 1106.25 Q112.844 1103.72 113.723 1101.99 Q114.626 1100.23 114.626 1098.54 Q114.626 1095.78 112.682 1094.05 Q110.76 1092.31 107.658 1092.31 Q105.459 1092.31 103.006 1093.07 Q100.575 1093.84 97.7974 1095.39 L97.7974 1090.67 Q100.621 1089.53 103.075 1088.95 Q105.529 1088.38 107.566 1088.38 Q112.936 1088.38 116.131 1091.06 Q119.325 1093.75 119.325 1098.24 Q119.325 1100.37 118.515 1102.29 Q117.728 1104.19 115.621 1106.78 Q115.043 1107.45 111.941 1110.67 Q108.839 1113.86 103.191 1119.63 Z\" fill=\"#000000\" fill-rule=\"evenodd\" fill-opacity=\"1\" /><path clip-path=\"url(#clip800)\" d=\"M129.371 1089 L147.728 1089 L147.728 1092.94 L133.654 1092.94 L133.654 1101.41 Q134.672 1101.06 135.691 1100.9 Q136.709 1100.71 137.728 1100.71 Q143.515 1100.71 146.894 1103.89 Q150.274 1107.06 150.274 1112.47 Q150.274 1118.05 146.802 1121.15 Q143.33 1124.23 137.01 1124.23 Q134.834 1124.23 132.566 1123.86 Q130.32 1123.49 127.913 1122.75 L127.913 1118.05 Q129.996 1119.19 132.219 1119.74 Q134.441 1120.3 136.918 1120.3 Q140.922 1120.3 143.26 1118.19 Q145.598 1116.08 145.598 1112.47 Q145.598 1108.86 143.26 1106.76 Q140.922 1104.65 136.918 1104.65 Q135.043 1104.65 133.168 1105.07 Q131.316 1105.48 129.371 1106.36 L129.371 1089 Z\" fill=\"#000000\" fill-rule=\"evenodd\" fill-opacity=\"1\" /><path clip-path=\"url(#clip800)\" d=\"M62.9365 752.645 Q59.3254 752.645 57.4967 756.209 Q55.6912 759.751 55.6912 766.881 Q55.6912 773.987 57.4967 777.552 Q59.3254 781.094 62.9365 781.094 Q66.5707 781.094 68.3763 777.552 Q70.205 773.987 70.205 766.881 Q70.205 759.751 68.3763 756.209 Q66.5707 752.645 62.9365 752.645 M62.9365 748.941 Q68.7467 748.941 71.8022 753.547 Q74.8809 758.131 74.8809 766.881 Q74.8809 775.608 71.8022 780.214 Q68.7467 784.797 62.9365 784.797 Q57.1264 784.797 54.0477 780.214 Q50.9921 775.608 50.9921 766.881 Q50.9921 758.131 54.0477 753.547 Q57.1264 748.941 62.9365 748.941 Z\" fill=\"#000000\" fill-rule=\"evenodd\" fill-opacity=\"1\" /><path clip-path=\"url(#clip800)\" d=\"M83.0984 778.246 L87.9827 778.246 L87.9827 784.126 L83.0984 784.126 L83.0984 778.246 Z\" fill=\"#000000\" fill-rule=\"evenodd\" fill-opacity=\"1\" /><path clip-path=\"url(#clip800)\" d=\"M98.2141 749.566 L116.57 749.566 L116.57 753.501 L102.496 753.501 L102.496 761.973 Q103.515 761.626 104.534 761.464 Q105.552 761.279 106.571 761.279 Q112.358 761.279 115.737 764.45 Q119.117 767.621 119.117 773.038 Q119.117 778.617 115.645 781.719 Q112.172 784.797 105.853 784.797 Q103.677 784.797 101.409 784.427 Q99.1632 784.057 96.7558 783.316 L96.7558 778.617 Q98.8391 779.751 101.061 780.307 Q103.284 780.862 105.76 780.862 Q109.765 780.862 112.103 778.756 Q114.441 776.649 114.441 773.038 Q114.441 769.427 112.103 767.321 Q109.765 765.214 105.76 765.214 Q103.885 765.214 102.01 765.631 Q100.159 766.047 98.2141 766.927 L98.2141 749.566 Z\" fill=\"#000000\" fill-rule=\"evenodd\" fill-opacity=\"1\" /><path clip-path=\"url(#clip800)\" d=\"M138.33 752.645 Q134.719 752.645 132.89 756.209 Q131.084 759.751 131.084 766.881 Q131.084 773.987 132.89 777.552 Q134.719 781.094 138.33 781.094 Q141.964 781.094 143.769 777.552 Q145.598 773.987 145.598 766.881 Q145.598 759.751 143.769 756.209 Q141.964 752.645 138.33 752.645 M138.33 748.941 Q144.14 748.941 147.195 753.547 Q150.274 758.131 150.274 766.881 Q150.274 775.608 147.195 780.214 Q144.14 784.797 138.33 784.797 Q132.519 784.797 129.441 780.214 Q126.385 775.608 126.385 766.881 Q126.385 758.131 129.441 753.547 Q132.519 748.941 138.33 748.941 Z\" fill=\"#000000\" fill-rule=\"evenodd\" fill-opacity=\"1\" /><path clip-path=\"url(#clip800)\" d=\"M63.9319 413.21 Q60.3208 413.21 58.4921 416.775 Q56.6865 420.316 56.6865 427.446 Q56.6865 434.552 58.4921 438.117 Q60.3208 441.659 63.9319 441.659 Q67.5661 441.659 69.3717 438.117 Q71.2004 434.552 71.2004 427.446 Q71.2004 420.316 69.3717 416.775 Q67.5661 413.21 63.9319 413.21 M63.9319 409.506 Q69.742 409.506 72.7976 414.113 Q75.8763 418.696 75.8763 427.446 Q75.8763 436.173 72.7976 440.779 Q69.742 445.362 63.9319 445.362 Q58.1217 445.362 55.043 440.779 Q51.9875 436.173 51.9875 427.446 Q51.9875 418.696 55.043 414.113 Q58.1217 409.506 63.9319 409.506 Z\" fill=\"#000000\" fill-rule=\"evenodd\" fill-opacity=\"1\" /><path clip-path=\"url(#clip800)\" d=\"M84.0938 438.812 L88.978 438.812 L88.978 444.691 L84.0938 444.691 L84.0938 438.812 Z\" fill=\"#000000\" fill-rule=\"evenodd\" fill-opacity=\"1\" /><path clip-path=\"url(#clip800)\" d=\"M97.9826 410.131 L120.205 410.131 L120.205 412.122 L107.658 444.691 L102.774 444.691 L114.58 414.066 L97.9826 414.066 L97.9826 410.131 Z\" fill=\"#000000\" fill-rule=\"evenodd\" fill-opacity=\"1\" /><path clip-path=\"url(#clip800)\" d=\"M129.371 410.131 L147.728 410.131 L147.728 414.066 L133.654 414.066 L133.654 422.538 Q134.672 422.191 135.691 422.029 Q136.709 421.844 137.728 421.844 Q143.515 421.844 146.894 425.015 Q150.274 428.187 150.274 433.603 Q150.274 439.182 146.802 442.284 Q143.33 445.362 137.01 445.362 Q134.834 445.362 132.566 444.992 Q130.32 444.622 127.913 443.881 L127.913 439.182 Q129.996 440.316 132.219 440.872 Q134.441 441.427 136.918 441.427 Q140.922 441.427 143.26 439.321 Q145.598 437.214 145.598 433.603 Q145.598 429.992 143.26 427.886 Q140.922 425.779 136.918 425.779 Q135.043 425.779 133.168 426.196 Q131.316 426.613 129.371 427.492 L129.371 410.131 Z\" fill=\"#000000\" fill-rule=\"evenodd\" fill-opacity=\"1\" /><path clip-path=\"url(#clip800)\" d=\"M53.7467 101.321 L61.3856 101.321 L61.3856 74.9555 L53.0754 76.6222 L53.0754 72.3629 L61.3393 70.6963 L66.0152 70.6963 L66.0152 101.321 L73.654 101.321 L73.654 105.256 L53.7467 105.256 L53.7467 101.321 Z\" fill=\"#000000\" fill-rule=\"evenodd\" fill-opacity=\"1\" /><path clip-path=\"url(#clip800)\" d=\"M83.0984 99.3767 L87.9827 99.3767 L87.9827 105.256 L83.0984 105.256 L83.0984 99.3767 Z\" fill=\"#000000\" fill-rule=\"evenodd\" fill-opacity=\"1\" /><path clip-path=\"url(#clip800)\" d=\"M108.168 73.775 Q104.557 73.775 102.728 77.3398 Q100.922 80.8814 100.922 88.011 Q100.922 95.1174 102.728 98.6822 Q104.557 102.224 108.168 102.224 Q111.802 102.224 113.608 98.6822 Q115.436 95.1174 115.436 88.011 Q115.436 80.8814 113.608 77.3398 Q111.802 73.775 108.168 73.775 M108.168 70.0713 Q113.978 70.0713 117.033 74.6777 Q120.112 79.261 120.112 88.011 Q120.112 96.7378 117.033 101.344 Q113.978 105.928 108.168 105.928 Q102.358 105.928 99.2789 101.344 Q96.2234 96.7378 96.2234 88.011 Q96.2234 79.261 99.2789 74.6777 Q102.358 70.0713 108.168 70.0713 Z\" fill=\"#000000\" fill-rule=\"evenodd\" fill-opacity=\"1\" /><path clip-path=\"url(#clip800)\" d=\"M138.33 73.775 Q134.719 73.775 132.89 77.3398 Q131.084 80.8814 131.084 88.011 Q131.084 95.1174 132.89 98.6822 Q134.719 102.224 138.33 102.224 Q141.964 102.224 143.769 98.6822 Q145.598 95.1174 145.598 88.011 Q145.598 80.8814 143.769 77.3398 Q141.964 73.775 138.33 73.775 M138.33 70.0713 Q144.14 70.0713 147.195 74.6777 Q150.274 79.261 150.274 88.011 Q150.274 96.7378 147.195 101.344 Q144.14 105.928 138.33 105.928 Q132.519 105.928 129.441 101.344 Q126.385 96.7378 126.385 88.011 Q126.385 79.261 129.441 74.6777 Q132.519 70.0713 138.33 70.0713 Z\" fill=\"#000000\" fill-rule=\"evenodd\" fill-opacity=\"1\" /><polyline clip-path=\"url(#clip802)\" style=\"stroke:#0000ff; stroke-linecap:butt; stroke-linejoin:round; stroke-width:4; stroke-opacity:1; fill:none\" points=\"\n  247.59,1445.72 268.028,1445.72 288.467,1445.72 308.905,1445.72 329.344,1445.72 349.782,1445.72 370.221,1445.72 390.659,1445.72 411.098,1445.72 431.536,1445.72 \n  451.975,1445.72 472.413,1445.72 492.852,1445.72 513.29,1445.72 533.729,1445.72 554.167,1445.72 574.606,1445.72 595.044,1445.72 615.483,1445.72 635.921,1445.72 \n  656.36,1445.72 676.798,1445.72 697.237,1445.72 717.675,1445.72 738.114,1445.72 758.552,1445.72 778.991,1445.72 799.429,1445.72 819.868,1445.72 840.306,1445.72 \n  860.745,1445.72 881.183,1445.72 901.622,1445.72 922.06,1445.72 942.499,1445.72 962.937,1445.72 983.376,1445.72 1003.81,1445.72 1024.25,1445.72 1044.69,1445.72 \n  1065.13,1445.72 1085.57,1445.72 1106.01,1445.72 1126.45,1445.72 1146.88,1445.72 1167.32,1445.72 1187.76,1445.72 1208.2,1445.72 1228.64,1445.72 1249.08,1445.72 \n  1269.51,1445.72 1289.95,1445.72 1310.39,1445.72 1330.83,1445.72 1351.27,1445.72 1371.71,1445.72 1392.15,1445.72 1412.58,1445.72 1433.02,1445.72 1453.46,1445.72 \n  1473.9,1445.72 1494.34,1445.72 1514.78,1445.72 1535.22,1445.72 1555.65,1445.72 1576.09,1445.72 1596.53,1445.72 1616.97,1445.72 1637.41,1445.72 1657.85,1445.72 \n  1678.29,1445.72 1698.72,1445.72 1719.16,1445.72 1739.6,1445.72 1760.04,1445.72 1780.48,1445.72 1800.92,1445.72 1821.35,1445.72 1841.79,1445.72 1862.23,1445.72 \n  1882.67,1445.72 1903.11,1445.72 1923.55,1445.72 1943.99,1445.72 1964.42,1445.72 1984.86,1445.72 2005.3,1445.72 2025.74,1445.72 2046.18,1445.72 2066.62,1445.72 \n  2087.06,1445.72 2107.49,1445.72 2127.93,1445.72 2148.37,1445.72 2168.81,1445.72 2189.25,1445.72 2209.69,1445.72 2230.12,1445.72 2250.56,1445.72 2271,1445.72 \n  2291.44,1445.72 \n  \"/>\n<polyline clip-path=\"url(#clip802)\" style=\"stroke:#ff0000; stroke-linecap:butt; stroke-linejoin:round; stroke-width:4; stroke-opacity:1; fill:none\" points=\"\n  247.59,1445.72 268.028,1445.72 288.467,1445.72 308.905,1445.72 329.344,1445.72 349.782,1445.72 370.221,1445.72 390.659,1445.72 411.098,1445.72 431.536,1445.72 \n  451.975,1445.72 472.413,1445.72 492.852,1445.72 513.29,1445.72 533.729,1445.72 554.167,1445.72 574.606,1445.72 595.044,1445.72 615.483,1445.72 635.921,1445.72 \n  656.36,1445.72 676.798,1445.72 697.237,1445.72 717.675,1445.72 738.114,1445.72 758.552,1445.72 778.991,1445.72 799.429,1445.72 819.868,1445.72 840.306,1445.72 \n  860.745,1445.72 881.183,1445.72 901.622,1445.72 922.06,1445.72 942.499,1445.72 962.937,1445.72 983.376,1445.72 1003.81,1445.72 1024.25,1445.72 1044.69,1445.72 \n  1065.13,1445.72 1085.57,1445.72 1106.01,1445.72 1126.45,1445.72 1146.88,1445.72 1167.32,1445.72 1187.76,1445.72 1208.2,1445.72 1228.64,1445.72 1249.08,1445.72 \n  1269.51,1445.72 1289.95,1445.72 1310.39,1445.72 1330.83,1445.72 1351.27,1445.72 1371.71,1445.72 1392.15,1445.72 1412.58,1445.72 1433.02,1445.72 1453.46,1445.72 \n  1473.9,1445.72 1494.34,1445.72 1514.78,1445.72 1535.22,1445.72 1555.65,1445.72 1576.09,1445.72 1596.53,1445.72 1616.97,1445.72 1637.41,1445.72 1657.85,1445.72 \n  1678.29,1445.72 1698.72,1445.72 1719.16,1445.72 1739.6,1445.72 1760.04,1445.72 1780.48,1445.72 1800.92,1445.72 1821.35,1445.72 1841.79,1445.72 1862.23,1445.72 \n  1882.67,1445.72 1903.11,1445.72 1923.55,1445.72 1943.99,1445.72 1964.42,1445.72 1984.86,1445.72 2005.3,1445.72 2025.74,1445.72 2046.18,1445.72 2066.62,1445.72 \n  2087.06,1445.72 2107.49,1445.72 2127.93,1445.72 2148.37,1445.72 2168.81,1445.72 2189.25,1445.72 2209.69,1445.72 2230.12,1445.72 2250.56,1445.72 2271,1445.72 \n  2291.44,1445.72 \n  \"/>\n<polyline clip-path=\"url(#clip802)\" style=\"stroke:#008000; stroke-linecap:butt; stroke-linejoin:round; stroke-width:4; stroke-opacity:1; fill:none\" points=\"\n  247.59,1445.72 268.028,1445.72 288.467,1445.72 308.905,1445.72 329.344,1445.72 349.782,1445.72 370.221,1445.72 390.659,1445.72 411.098,1445.72 431.536,1445.72 \n  451.975,1445.72 472.413,1445.72 492.852,1445.72 513.29,1445.72 533.729,1445.72 554.167,1445.72 574.606,1445.72 595.044,1445.72 615.483,1445.72 635.921,1445.72 \n  656.36,1445.72 676.798,1445.72 697.237,1445.72 717.675,1445.72 738.114,1445.72 758.552,1445.72 778.991,1445.72 799.429,1445.72 819.868,1445.72 840.306,1445.72 \n  860.745,1445.72 881.183,1445.72 901.622,1445.72 922.06,1445.72 942.499,1445.72 962.937,1445.72 983.376,1445.72 1003.81,1445.72 1024.25,1445.72 1044.69,1445.72 \n  1065.13,1445.72 1085.57,1445.72 1106.01,1445.72 1126.45,1445.72 1146.88,1445.72 1167.32,1445.72 1187.76,1445.72 1208.2,1445.72 1228.64,1445.72 1249.08,1445.72 \n  1269.51,1445.72 1289.95,1445.72 1310.39,1445.72 1330.83,1445.72 1351.27,1445.72 1371.71,1445.72 1392.15,1445.72 1412.58,1445.72 1433.02,1445.72 1453.46,1445.72 \n  1473.9,1445.72 1494.34,1445.72 1514.78,1445.72 1535.22,1445.72 1555.65,1445.72 1576.09,1445.72 1596.53,1445.72 1616.97,1445.72 1637.41,1445.72 1657.85,1445.72 \n  1678.29,1445.72 1698.72,1445.72 1719.16,1445.72 1739.6,1445.72 1760.04,1445.72 1780.48,1445.72 1800.92,1445.72 1821.35,1445.72 1841.79,1445.72 1862.23,1445.72 \n  1882.67,1445.72 1903.11,1445.72 1923.55,1445.72 1943.99,1445.72 1964.42,1445.72 1984.86,1445.72 2005.3,1445.72 2025.74,1445.72 2046.18,1445.72 2066.62,1445.72 \n  2087.06,1445.72 2107.49,1445.72 2127.93,1445.72 2148.37,1445.72 2168.81,1445.72 2189.25,1445.72 2209.69,1445.72 2230.12,1445.72 2250.56,1445.72 2271,1445.72 \n  2291.44,1445.72 \n  \"/>\n<path clip-path=\"url(#clip800)\" d=\"\nM1986.81 302.578 L2280.54 302.578 L2280.54 95.2176 L1986.81 95.2176  Z\n  \" fill=\"#ffffff\" fill-rule=\"evenodd\" fill-opacity=\"1\"/>\n<polyline clip-path=\"url(#clip800)\" style=\"stroke:#000000; stroke-linecap:butt; stroke-linejoin:round; stroke-width:4; stroke-opacity:1; fill:none\" points=\"\n  1986.81,302.578 2280.54,302.578 2280.54,95.2176 1986.81,95.2176 1986.81,302.578 \n  \"/>\n<polyline clip-path=\"url(#clip800)\" style=\"stroke:#0000ff; stroke-linecap:butt; stroke-linejoin:round; stroke-width:4; stroke-opacity:1; fill:none\" points=\"\n  2010.88,147.058 2155.31,147.058 \n  \"/>\n<path clip-path=\"url(#clip800)\" d=\"M2193.23 166.745 Q2191.42 171.375 2189.71 172.787 Q2188 174.199 2185.13 174.199 L2181.72 174.199 L2181.72 170.634 L2184.22 170.634 Q2185.98 170.634 2186.96 169.8 Q2187.93 168.967 2189.11 165.865 L2189.87 163.921 L2179.39 138.412 L2183.9 138.412 L2192 158.689 L2200.1 138.412 L2204.62 138.412 L2193.23 166.745 Z\" fill=\"#000000\" fill-rule=\"evenodd\" fill-opacity=\"1\" /><path clip-path=\"url(#clip800)\" d=\"M2211.91 160.402 L2219.55 160.402 L2219.55 134.037 L2211.24 135.703 L2211.24 131.444 L2219.5 129.778 L2224.18 129.778 L2224.18 160.402 L2231.82 160.402 L2231.82 164.338 L2211.91 164.338 L2211.91 160.402 Z\" fill=\"#000000\" fill-rule=\"evenodd\" fill-opacity=\"1\" /><polyline clip-path=\"url(#clip800)\" style=\"stroke:#ff0000; stroke-linecap:butt; stroke-linejoin:round; stroke-width:4; stroke-opacity:1; fill:none\" points=\"\n  2010.88,198.898 2155.31,198.898 \n  \"/>\n<path clip-path=\"url(#clip800)\" d=\"M2193.23 218.585 Q2191.42 223.215 2189.71 224.627 Q2188 226.039 2185.13 226.039 L2181.72 226.039 L2181.72 222.474 L2184.22 222.474 Q2185.98 222.474 2186.96 221.64 Q2187.93 220.807 2189.11 217.705 L2189.87 215.761 L2179.39 190.252 L2183.9 190.252 L2192 210.529 L2200.1 190.252 L2204.62 190.252 L2193.23 218.585 Z\" fill=\"#000000\" fill-rule=\"evenodd\" fill-opacity=\"1\" /><path clip-path=\"url(#clip800)\" d=\"M2215.13 212.242 L2231.45 212.242 L2231.45 216.178 L2209.5 216.178 L2209.5 212.242 Q2212.16 209.488 2216.75 204.858 Q2221.35 200.205 2222.53 198.863 Q2224.78 196.34 2225.66 194.604 Q2226.56 192.844 2226.56 191.155 Q2226.56 188.4 2224.62 186.664 Q2222.7 184.928 2219.59 184.928 Q2217.4 184.928 2214.94 185.692 Q2212.51 186.455 2209.73 188.006 L2209.73 183.284 Q2212.56 182.15 2215.01 181.571 Q2217.47 180.993 2219.5 180.993 Q2224.87 180.993 2228.07 183.678 Q2231.26 186.363 2231.26 190.854 Q2231.26 192.983 2230.45 194.905 Q2229.66 196.803 2227.56 199.395 Q2226.98 200.067 2223.88 203.284 Q2220.78 206.479 2215.13 212.242 Z\" fill=\"#000000\" fill-rule=\"evenodd\" fill-opacity=\"1\" /><polyline clip-path=\"url(#clip800)\" style=\"stroke:#008000; stroke-linecap:butt; stroke-linejoin:round; stroke-width:4; stroke-opacity:1; fill:none\" points=\"\n  2010.88,250.738 2155.31,250.738 \n  \"/>\n<path clip-path=\"url(#clip800)\" d=\"M2193.23 270.425 Q2191.42 275.055 2189.71 276.467 Q2188 277.879 2185.13 277.879 L2181.72 277.879 L2181.72 274.314 L2184.22 274.314 Q2185.98 274.314 2186.96 273.48 Q2187.93 272.647 2189.11 269.545 L2189.87 267.601 L2179.39 242.092 L2183.9 242.092 L2192 262.369 L2200.1 242.092 L2204.62 242.092 L2193.23 270.425 Z\" fill=\"#000000\" fill-rule=\"evenodd\" fill-opacity=\"1\" /><path clip-path=\"url(#clip800)\" d=\"M2225.27 249.383 Q2228.62 250.101 2230.5 252.369 Q2232.4 254.638 2232.4 257.971 Q2232.4 263.087 2228.88 265.888 Q2225.36 268.689 2218.88 268.689 Q2216.7 268.689 2214.39 268.249 Q2212.09 267.832 2209.64 266.976 L2209.64 262.462 Q2211.59 263.596 2213.9 264.175 Q2216.22 264.754 2218.74 264.754 Q2223.14 264.754 2225.43 263.018 Q2227.74 261.281 2227.74 257.971 Q2227.74 254.916 2225.59 253.203 Q2223.46 251.467 2219.64 251.467 L2215.61 251.467 L2215.61 247.624 L2219.83 247.624 Q2223.28 247.624 2225.1 246.258 Q2226.93 244.87 2226.93 242.277 Q2226.93 239.615 2225.03 238.203 Q2223.16 236.768 2219.64 236.768 Q2217.72 236.768 2215.52 237.184 Q2213.32 237.601 2210.68 238.481 L2210.68 234.314 Q2213.34 233.573 2215.66 233.203 Q2218 232.833 2220.06 232.833 Q2225.38 232.833 2228.48 235.263 Q2231.59 237.67 2231.59 241.791 Q2231.59 244.661 2229.94 246.652 Q2228.3 248.62 2225.27 249.383 Z\" fill=\"#000000\" fill-rule=\"evenodd\" fill-opacity=\"1\" /></svg>\n"
     },
     "execution_count": 32,
     "metadata": {},
     "output_type": "execute_result"
    }
   ],
   "source": [
    "N = sum(model.N_total) # Total initial population\n",
    "x = data.step\n",
    "Plots.plot(x, (data[:, aggname(:status, infected)]), color = :blue)\n",
    "Plots.plot!(x, (data[:, aggname(:status, recovered)]), color = :red)\n",
    "Plots.plot!(x, (N .- data[:, aggname(:status, length)]), color = :green)"
   ]
  }
 ],
 "metadata": {
  "kernelspec": {
   "display_name": "Julia 1.7.3",
   "language": "julia",
   "name": "julia-1.7"
  },
  "language_info": {
   "file_extension": ".jl",
   "mimetype": "application/julia",
   "name": "julia",
   "version": "1.7.3"
  },
  "orig_nbformat": 4
 },
 "nbformat": 4,
 "nbformat_minor": 2
}

{
 "cells": [
  {
   "cell_type": "code",
   "execution_count": 1,
   "id": "a116f278",
   "metadata": {},
   "outputs": [],
   "source": [
    "import pandas as pd\n",
    "import numpy as np"
   ]
  },
  {
   "cell_type": "code",
   "execution_count": 2,
   "id": "92d64292",
   "metadata": {},
   "outputs": [
    {
     "data": {
      "text/html": [
       "<div>\n",
       "<style scoped>\n",
       "    .dataframe tbody tr th:only-of-type {\n",
       "        vertical-align: middle;\n",
       "    }\n",
       "\n",
       "    .dataframe tbody tr th {\n",
       "        vertical-align: top;\n",
       "    }\n",
       "\n",
       "    .dataframe thead th {\n",
       "        text-align: right;\n",
       "    }\n",
       "</style>\n",
       "<table border=\"1\" class=\"dataframe\">\n",
       "  <thead>\n",
       "    <tr style=\"text-align: right;\">\n",
       "      <th></th>\n",
       "      <th>Num</th>\n",
       "      <th>District</th>\n",
       "      <th>State</th>\n",
       "      <th>Population</th>\n",
       "      <th>Growth Rate</th>\n",
       "      <th>Sex-Ratio</th>\n",
       "      <th>Literacy</th>\n",
       "      <th>Population2021_estimated</th>\n",
       "    </tr>\n",
       "  </thead>\n",
       "  <tbody>\n",
       "    <tr>\n",
       "      <th>0</th>\n",
       "      <td>1</td>\n",
       "      <td>thane</td>\n",
       "      <td>maharashtra</td>\n",
       "      <td>11060148</td>\n",
       "      <td>1.3601</td>\n",
       "      <td>886</td>\n",
       "      <td>84.53</td>\n",
       "      <td>2.395904e+08</td>\n",
       "    </tr>\n",
       "    <tr>\n",
       "      <th>1</th>\n",
       "      <td>2</td>\n",
       "      <td>north twenty four parganas</td>\n",
       "      <td>west bengal</td>\n",
       "      <td>10009781</td>\n",
       "      <td>1.1204</td>\n",
       "      <td>955</td>\n",
       "      <td>84.06</td>\n",
       "      <td>3.120007e+07</td>\n",
       "    </tr>\n",
       "    <tr>\n",
       "      <th>2</th>\n",
       "      <td>3</td>\n",
       "      <td>bangalore</td>\n",
       "      <td>karnataka</td>\n",
       "      <td>9621551</td>\n",
       "      <td>1.4718</td>\n",
       "      <td>916</td>\n",
       "      <td>87.67</td>\n",
       "      <td>4.589159e+08</td>\n",
       "    </tr>\n",
       "    <tr>\n",
       "      <th>3</th>\n",
       "      <td>4</td>\n",
       "      <td>pune</td>\n",
       "      <td>maharashtra</td>\n",
       "      <td>9429408</td>\n",
       "      <td>1.3037</td>\n",
       "      <td>915</td>\n",
       "      <td>86.15</td>\n",
       "      <td>1.337399e+08</td>\n",
       "    </tr>\n",
       "    <tr>\n",
       "      <th>4</th>\n",
       "      <td>5</td>\n",
       "      <td>mumbai suburban</td>\n",
       "      <td>maharashtra</td>\n",
       "      <td>9356962</td>\n",
       "      <td>1.0829</td>\n",
       "      <td>860</td>\n",
       "      <td>89.91</td>\n",
       "      <td>2.075001e+07</td>\n",
       "    </tr>\n",
       "    <tr>\n",
       "      <th>...</th>\n",
       "      <td>...</td>\n",
       "      <td>...</td>\n",
       "      <td>...</td>\n",
       "      <td>...</td>\n",
       "      <td>...</td>\n",
       "      <td>...</td>\n",
       "      <td>...</td>\n",
       "      <td>...</td>\n",
       "    </tr>\n",
       "    <tr>\n",
       "      <th>635</th>\n",
       "      <td>636</td>\n",
       "      <td>nicobars</td>\n",
       "      <td>andaman &amp; nicobar islands</td>\n",
       "      <td>36842</td>\n",
       "      <td>0.8758</td>\n",
       "      <td>777</td>\n",
       "      <td>78.06</td>\n",
       "      <td>9.781211e+03</td>\n",
       "    </tr>\n",
       "    <tr>\n",
       "      <th>636</th>\n",
       "      <td>637</td>\n",
       "      <td>upper siang</td>\n",
       "      <td>arunachal pradesh</td>\n",
       "      <td>35320</td>\n",
       "      <td>1.0587</td>\n",
       "      <td>889</td>\n",
       "      <td>59.99</td>\n",
       "      <td>6.248127e+04</td>\n",
       "    </tr>\n",
       "    <tr>\n",
       "      <th>637</th>\n",
       "      <td>638</td>\n",
       "      <td>lahul and spiti</td>\n",
       "      <td>himachal pradesh</td>\n",
       "      <td>31564</td>\n",
       "      <td>0.9500</td>\n",
       "      <td>903</td>\n",
       "      <td>76.81</td>\n",
       "      <td>1.889853e+04</td>\n",
       "    </tr>\n",
       "    <tr>\n",
       "      <th>638</th>\n",
       "      <td>639</td>\n",
       "      <td>anjaw</td>\n",
       "      <td>arunachal pradesh</td>\n",
       "      <td>21167</td>\n",
       "      <td>1.1419</td>\n",
       "      <td>839</td>\n",
       "      <td>56.46</td>\n",
       "      <td>7.978845e+04</td>\n",
       "    </tr>\n",
       "    <tr>\n",
       "      <th>639</th>\n",
       "      <td>640</td>\n",
       "      <td>dibang valley</td>\n",
       "      <td>arunachal pradesh</td>\n",
       "      <td>8004</td>\n",
       "      <td>1.1007</td>\n",
       "      <td>813</td>\n",
       "      <td>64.10</td>\n",
       "      <td>2.089280e+04</td>\n",
       "    </tr>\n",
       "  </tbody>\n",
       "</table>\n",
       "<p>640 rows × 8 columns</p>\n",
       "</div>"
      ],
      "text/plain": [
       "     Num                    District                      State  Population  \\\n",
       "0      1                       thane                maharashtra    11060148   \n",
       "1      2  north twenty four parganas                west bengal    10009781   \n",
       "2      3                   bangalore                  karnataka     9621551   \n",
       "3      4                        pune                maharashtra     9429408   \n",
       "4      5             mumbai suburban                maharashtra     9356962   \n",
       "..   ...                         ...                        ...         ...   \n",
       "635  636                    nicobars  andaman & nicobar islands       36842   \n",
       "636  637                 upper siang          arunachal pradesh       35320   \n",
       "637  638             lahul and spiti           himachal pradesh       31564   \n",
       "638  639                       anjaw          arunachal pradesh       21167   \n",
       "639  640               dibang valley          arunachal pradesh        8004   \n",
       "\n",
       "     Growth Rate  Sex-Ratio  Literacy  Population2021_estimated  \n",
       "0         1.3601        886     84.53              2.395904e+08  \n",
       "1         1.1204        955     84.06              3.120007e+07  \n",
       "2         1.4718        916     87.67              4.589159e+08  \n",
       "3         1.3037        915     86.15              1.337399e+08  \n",
       "4         1.0829        860     89.91              2.075001e+07  \n",
       "..           ...        ...       ...                       ...  \n",
       "635       0.8758        777     78.06              9.781211e+03  \n",
       "636       1.0587        889     59.99              6.248127e+04  \n",
       "637       0.9500        903     76.81              1.889853e+04  \n",
       "638       1.1419        839     56.46              7.978845e+04  \n",
       "639       1.1007        813     64.10              2.089280e+04  \n",
       "\n",
       "[640 rows x 8 columns]"
      ]
     },
     "execution_count": 2,
     "metadata": {},
     "output_type": "execute_result"
    }
   ],
   "source": [
    "pop=pd.read_csv('district_populations_extrapolated.csv')\n",
    "pop"
   ]
  },
  {
   "cell_type": "code",
   "execution_count": 10,
   "id": "7209edb6",
   "metadata": {},
   "outputs": [],
   "source": [
    "pop=pd.read_csv('district_populations_extrapolated.csv')\n",
    "pop['Population_2021']=pop['Population']\n",
    "for year in range(10):\n",
    "    aggregated_growth_rate=sum(pop['Growth Rate']*pop['Population_2021'])/sum(pop['Population_2021'])\n",
    "    pop['Population_2021']=pop['Growth Rate']*pop['Population_2021']\n",
    "    pop['Growth Rate']=[i-abs(i-aggregated_growth_rate)*0.2 if i>aggregated_growth_rate else i+abs(i-aggregated_growth_rate)*0.2 for i in pop['Growth Rate']]"
   ]
  },
  {
   "cell_type": "code",
   "execution_count": 12,
   "id": "5adcddd3",
   "metadata": {},
   "outputs": [
    {
     "data": {
      "text/plain": [
       "7.604335322775165"
      ]
     },
     "execution_count": 12,
     "metadata": {},
     "output_type": "execute_result"
    }
   ],
   "source": [
    "sum(pop['Population_2021'])/1000000000"
   ]
  },
  {
   "cell_type": "code",
   "execution_count": 5,
   "id": "5156f699",
   "metadata": {},
   "outputs": [
    {
     "data": {
      "text/plain": [
       "12.824624303992714"
      ]
     },
     "execution_count": 5,
     "metadata": {},
     "output_type": "execute_result"
    }
   ],
   "source": [
    "sum(pop['Population2021_estimated'])/1000000000"
   ]
  },
  {
   "cell_type": "code",
   "execution_count": 13,
   "id": "0d743875",
   "metadata": {},
   "outputs": [],
   "source": [
    "pop.to_csv('district_populations_extrapolated.csv',index=False)"
   ]
  }
 ],
 "metadata": {
  "kernelspec": {
   "display_name": "Python 3",
   "language": "python",
   "name": "python3"
  },
  "language_info": {
   "codemirror_mode": {
    "name": "ipython",
    "version": 3
   },
   "file_extension": ".py",
   "mimetype": "text/x-python",
   "name": "python",
   "nbconvert_exporter": "python",
   "pygments_lexer": "ipython3",
   "version": "3.8.8"
  }
 },
 "nbformat": 4,
 "nbformat_minor": 5
}
